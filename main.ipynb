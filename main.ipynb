{
 "cells": [
  {
   "cell_type": "markdown",
   "metadata": {},
   "source": [
    "# Enviroment setup"
   ]
  },
  {
   "cell_type": "code",
   "execution_count": 1,
   "metadata": {},
   "outputs": [
    {
     "name": "stdout",
     "output_type": "stream",
     "text": [
      "\u001b[31mERROR: pip's dependency resolver does not currently take into account all the packages that are installed. This behaviour is the source of the following dependency conflicts.\n",
      "autogluon-multimodal 1.2 requires nvidia-ml-py3==7.352.0, which is not installed.\n",
      "autogluon-multimodal 1.2 requires jsonschema<4.22,>=4.18, but you have jsonschema 4.23.0 which is incompatible.\n",
      "autogluon-multimodal 1.2 requires nltk<3.9,>=3.4.5, but you have nltk 3.9.1 which is incompatible.\n",
      "autogluon-multimodal 1.2 requires omegaconf<2.3.0,>=2.1.1, but you have omegaconf 2.3.0 which is incompatible.\n",
      "pathos 0.3.3 requires dill>=0.3.9, but you have dill 0.3.8 which is incompatible.\n",
      "pathos 0.3.3 requires multiprocess>=0.70.17, but you have multiprocess 0.70.16 which is incompatible.\u001b[0m\u001b[31m\n",
      "\u001b[0m"
     ]
    }
   ],
   "source": [
    "! pip install -r requirements.txt --quiet"
   ]
  },
  {
   "cell_type": "code",
   "execution_count": 2,
   "metadata": {},
   "outputs": [],
   "source": [
    "import yaml\n",
    "\n",
    "with open(\"config/config.yaml\", \"r\") as f:\n",
    "    config = yaml.safe_load(f)\n",
    "\n",
    "explicit_path = config[\"explicit_data_path\"]\n",
    "implicit_path = config[\"implicit_data_path\"]\n",
    "explicit_bleurt = config[\"explicit_bleurt\"]\n",
    "implicit_bleurt = config[\"implicit_bleurt\"]\n",
    "token = config[\"token\"]\n"
   ]
  },
  {
   "cell_type": "markdown",
   "metadata": {},
   "source": [
    "## Wilcoxon Test\n",
    "\n",
    "A p-value is a statistical measurement used to validate a hypothesis against observed data.\n",
    "A p-value measures the probability of obtaining the observed results, assuming that the null hypothesis is true.\n",
    "The lower the p-value, the greater the statistical significance of the observed difference.\n",
    "A p-value of 0.05 or lower is generally considered statistically significant.\n",
    "P-value can serve as an alternative to—or in addition to—preselected confidence levels for hypothesis testing."
   ]
  },
  {
   "cell_type": "code",
   "execution_count": 3,
   "metadata": {},
   "outputs": [
    {
     "name": "stdout",
     "output_type": "stream",
     "text": [
      "          id        answer property_value  bleurt_score\n",
      "0    Q645627         actor          actor      0.576798\n",
      "1   Q5251048   dj producer    dj producer      0.928611\n",
      "2  Q20993896      tom hank       tom hank      0.973925\n",
      "3   Q6777518         actor          actor      0.576798\n",
      "4    Q241867  united state   united state      0.991983\n",
      "          id       answer property_value  bleurt_score\n",
      "0    Q645627          NaN          actor      0.025011\n",
      "1   Q5251048  dj producer    dj producer      0.928611\n",
      "2  Q20993896          NaN       tom hank      0.006566\n",
      "3   Q6777518        actor          actor      0.576798\n",
      "4    Q241867          NaN   united state      0.021853\n"
     ]
    }
   ],
   "source": [
    "import pandas as pd\n",
    "import configparser\n",
    "\n",
    "df_explicit = pd.read_csv(explicit_bleurt)\n",
    "print(df_explicit.head())\n",
    "df_implicit = pd.read_csv(implicit_bleurt)\n",
    "print(df_implicit.head())"
   ]
  },
  {
   "cell_type": "code",
   "execution_count": 18,
   "metadata": {},
   "outputs": [
    {
     "name": "stdout",
     "output_type": "stream",
     "text": [
      "Total unique answers exp: 4840, total unique asnw impl: 3561\n",
      "property_value\n",
      "actor               1037\n",
      "united state         727\n",
      "film actor           449\n",
      "television actor     416\n",
      "united kingdom       241\n",
      "Name: count, dtype: int64\n",
      "--------------------------\n",
      "answer\n",
      "united state        726\n",
      "actor               697\n",
      "actres              371\n",
      "film actor          328\n",
      "television actor    307\n",
      "Name: count, dtype: int64\n",
      "--------------------------\n",
      "answer\n",
      "actor             986\n",
      "united state      424\n",
      "actres            304\n",
      "film actor        300\n",
      "united kingdom    193\n",
      "Name: count, dtype: int64\n",
      "Number of 'actress' property values: 0\n"
     ]
    }
   ],
   "source": [
    "unique_answers_count_exp = df_explicit[\"answer\"].nunique()\n",
    "\n",
    "unique_answers_count_imp = df_implicit[\"answer\"].nunique()\n",
    "print(f\"Total unique answers exp: {unique_answers_count_exp}, total unique asnw impl: {unique_answers_count_imp}\")\n",
    "\n",
    "property_value_counts = df_explicit[\"property_value\"].value_counts()\n",
    "answer_counts_ex = df_explicit[\"answer\"].value_counts()\n",
    "answer_counts_imp = df_implicit[\"answer\"].value_counts()\n",
    "print(property_value_counts.head())\n",
    "print(\"--------------------------\")\n",
    "print(answer_counts_ex.head())\n",
    "print(\"--------------------------\")\n",
    "print(answer_counts_imp.head())\n",
    "\n",
    "actress_count = property_value_counts.get(\"actress\", 0)\n",
    "print(f\"Number of 'actress' property values: {actress_count}\")"
   ]
  },
  {
   "cell_type": "code",
   "execution_count": 19,
   "metadata": {},
   "outputs": [
    {
     "name": "stdout",
     "output_type": "stream",
     "text": [
      "property_value\n",
      "actor               1037\n",
      "united state         727\n",
      "film actor           449\n",
      "television actor     416\n",
      "united kingdom       241\n",
      "Name: count, dtype: int64\n",
      "--------------------------\n",
      "answer\n",
      "actor             986\n",
      "united state      424\n",
      "actres            304\n",
      "film actor        300\n",
      "united kingdom    193\n",
      "Name: count, dtype: int64\n"
     ]
    }
   ],
   "source": [
    "property_value_counts = df_implicit[\"property_value\"].value_counts()\n",
    "answer_counts = df_implicit[\"answer\"].value_counts()\n",
    "print(property_value_counts.head())\n",
    "print(\"--------------------------\")\n",
    "print(answer_counts.head())"
   ]
  },
  {
   "cell_type": "code",
   "execution_count": 20,
   "metadata": {},
   "outputs": [
    {
     "name": "stdout",
     "output_type": "stream",
     "text": [
      "Number of NaN values in 'answer' (Explicit case): 130, Percentage: 1.30\n",
      "Number of NaN values in 'answer' (Implicit case): 1460,  Percentage: 14.60\n"
     ]
    }
   ],
   "source": [
    "explicit_nan_count = df_explicit[\"answer\"].isna().sum()\n",
    "print(f\"Number of NaN values in 'answer' (Explicit case): {explicit_nan_count}, Percentage: {explicit_nan_count / len(df_explicit) * 100:.2f}\")\n",
    "implicit_nan_count = df_implicit[\"answer\"].isna().sum()\n",
    "print(f\"Number of NaN values in 'answer' (Implicit case): {implicit_nan_count},  Percentage: {implicit_nan_count / len(df_implicit) * 100:.2f}\")"
   ]
  },
  {
   "cell_type": "code",
   "execution_count": 23,
   "metadata": {},
   "outputs": [
    {
     "data": {
      "image/png": "[encoded data removed]",
      "text/plain": [
       "<Figure size 1200x500 with 2 Axes>"
      ]
     },
     "metadata": {},
     "output_type": "display_data"
    },
    {
     "name": "stdout",
     "output_type": "stream",
     "text": [
      "Stats: 2513070.0, pvalue 2.8875517629506923e-267\n",
      "It's statistically significant\n"
     ]
    }
   ],
   "source": [
    "import seaborn as sns\n",
    "import pandas as pd\n",
    "import matplotlib.pyplot as plt\n",
    "import warnings\n",
    "import scipy.stats as stats\n",
    "import numpy as np\n",
    "\n",
    "warnings.simplefilter(action='ignore', category=FutureWarning)\n",
    "\n",
    "#Convert to numerical values where necessary\n",
    "explicit_distance = df_explicit[\"bleurt_score\"].astype(float).values\n",
    "implicit_distance = df_implicit[\"bleurt_score\"].astype(float).values\n",
    "\n",
    "# plotto tutte e due le distanze per controllare che non siano distribuzioni normali\n",
    "fig, axes = plt.subplots(1, 2, figsize=(12, 5), sharey=True)  # 1 row, 2 columns\n",
    "\n",
    "sns.histplot(data=explicit_distance, ax=axes[0], kde=True, color=\"blue\")\n",
    "axes[0].set_title(\"Explicit Sentence BLEURT Distance\")\n",
    "\n",
    "sns.histplot(data=implicit_distance, ax=axes[1], kde=True, color=\"red\")\n",
    "axes[1].set_title(\"Implicit Sentence BLEURT Distance\")\n",
    "\n",
    "plt.tight_layout()  # Adjust layout for better spacing\n",
    "plt.show()\n",
    "\n",
    "stats, pvalue = stats.wilcoxon(explicit_distance, implicit_distance, alternative='two-sided') #\"greater\"\n",
    "print(f\"Stats: {stats}, pvalue {pvalue}\")\n",
    "\n",
    "if(pvalue < 0.05):\n",
    "    print(\"It's statistically significant\")\n",
    "else:\n",
    "    print(\"It's not statistically significant\")"
   ]
  },
  {
   "cell_type": "markdown",
   "metadata": {},
   "source": [
    "# Dataset\n",
    "Dataset overview"
   ]
  },
  {
   "cell_type": "code",
   "execution_count": 4,
   "metadata": {},
   "outputs": [
    {
     "data": {
      "text/html": [
       "<div>\n",
       "<style scoped>\n",
       "    .dataframe tbody tr th:only-of-type {\n",
       "        vertical-align: middle;\n",
       "    }\n",
       "\n",
       "    .dataframe tbody tr th {\n",
       "        vertical-align: top;\n",
       "    }\n",
       "\n",
       "    .dataframe thead th {\n",
       "        text-align: right;\n",
       "    }\n",
       "</style>\n",
       "<table border=\"1\" class=\"dataframe\">\n",
       "  <thead>\n",
       "    <tr style=\"text-align: right;\">\n",
       "      <th></th>\n",
       "      <th>id</th>\n",
       "      <th>entity_name</th>\n",
       "      <th>original_text</th>\n",
       "      <th>question</th>\n",
       "      <th>answer</th>\n",
       "      <th>selected_property</th>\n",
       "      <th>property_value</th>\n",
       "    </tr>\n",
       "  </thead>\n",
       "  <tbody>\n",
       "    <tr>\n",
       "      <th>0</th>\n",
       "      <td>Q645627</td>\n",
       "      <td>Hal Mohr</td>\n",
       "      <td>Hal Mohr was born in San Francisco on August 2...</td>\n",
       "      <td>What does Hal Mohr do for a living?</td>\n",
       "      <td>actor</td>\n",
       "      <td>occupation</td>\n",
       "      <td>actor</td>\n",
       "    </tr>\n",
       "    <tr>\n",
       "      <th>1</th>\n",
       "      <td>Q5251048</td>\n",
       "      <td>Def Jef</td>\n",
       "      <td>Jeff Fortson, born on September 27, 1966, in H...</td>\n",
       "      <td>What does Def Jef do for a living?</td>\n",
       "      <td>DJ producer</td>\n",
       "      <td>occupation</td>\n",
       "      <td>DJ producer</td>\n",
       "    </tr>\n",
       "    <tr>\n",
       "      <th>2</th>\n",
       "      <td>Q20993896</td>\n",
       "      <td>Truman Hanks</td>\n",
       "      <td>Truman Hanks, born on December 26, 1995, in Lo...</td>\n",
       "      <td>Who is Truman Hanks's father?</td>\n",
       "      <td>Tom Hanks</td>\n",
       "      <td>father</td>\n",
       "      <td>Tom Hanks</td>\n",
       "    </tr>\n",
       "    <tr>\n",
       "      <th>3</th>\n",
       "      <td>Q6777518</td>\n",
       "      <td>Marty Papazian</td>\n",
       "      <td>Marty Papazian was born on April 18, 1976, in ...</td>\n",
       "      <td>What does Marty Papazian do for a living?</td>\n",
       "      <td>actor</td>\n",
       "      <td>occupation</td>\n",
       "      <td>actor</td>\n",
       "    </tr>\n",
       "    <tr>\n",
       "      <th>4</th>\n",
       "      <td>Q241867</td>\n",
       "      <td>Alexis Dziena</td>\n",
       "      <td>Alexis Dziena, born on July 8, 1984, in New Yo...</td>\n",
       "      <td>What country is Alexis Dziena a citizen of?</td>\n",
       "      <td>United States</td>\n",
       "      <td>country of citizenship</td>\n",
       "      <td>United States</td>\n",
       "    </tr>\n",
       "  </tbody>\n",
       "</table>\n",
       "</div>"
      ],
      "text/plain": [
       "          id     entity_name  \\\n",
       "0    Q645627        Hal Mohr   \n",
       "1   Q5251048         Def Jef   \n",
       "2  Q20993896    Truman Hanks   \n",
       "3   Q6777518  Marty Papazian   \n",
       "4    Q241867   Alexis Dziena   \n",
       "\n",
       "                                       original_text  \\\n",
       "0  Hal Mohr was born in San Francisco on August 2...   \n",
       "1  Jeff Fortson, born on September 27, 1966, in H...   \n",
       "2  Truman Hanks, born on December 26, 1995, in Lo...   \n",
       "3  Marty Papazian was born on April 18, 1976, in ...   \n",
       "4  Alexis Dziena, born on July 8, 1984, in New Yo...   \n",
       "\n",
       "                                      question         answer  \\\n",
       "0          What does Hal Mohr do for a living?          actor   \n",
       "1           What does Def Jef do for a living?    DJ producer   \n",
       "2                Who is Truman Hanks's father?      Tom Hanks   \n",
       "3    What does Marty Papazian do for a living?          actor   \n",
       "4  What country is Alexis Dziena a citizen of?  United States   \n",
       "\n",
       "        selected_property property_value  \n",
       "0              occupation          actor  \n",
       "1              occupation    DJ producer  \n",
       "2                  father      Tom Hanks  \n",
       "3              occupation          actor  \n",
       "4  country of citizenship  United States  "
      ]
     },
     "execution_count": 4,
     "metadata": {},
     "output_type": "execute_result"
    }
   ],
   "source": [
    "import pandas as pd\n",
    "df_explicit = pd.read_csv(explicit_path)\n",
    "df_explicit.head()"
   ]
  },
  {
   "cell_type": "code",
   "execution_count": 26,
   "metadata": {},
   "outputs": [
    {
     "data": {
      "text/html": [
       "<div>\n",
       "<style scoped>\n",
       "    .dataframe tbody tr th:only-of-type {\n",
       "        vertical-align: middle;\n",
       "    }\n",
       "\n",
       "    .dataframe tbody tr th {\n",
       "        vertical-align: top;\n",
       "    }\n",
       "\n",
       "    .dataframe thead th {\n",
       "        text-align: right;\n",
       "    }\n",
       "</style>\n",
       "<table border=\"1\" class=\"dataframe\">\n",
       "  <thead>\n",
       "    <tr style=\"text-align: right;\">\n",
       "      <th></th>\n",
       "      <th>id</th>\n",
       "      <th>entity_name</th>\n",
       "      <th>original_text</th>\n",
       "      <th>question</th>\n",
       "      <th>answer</th>\n",
       "      <th>selected_property</th>\n",
       "      <th>property_value</th>\n",
       "    </tr>\n",
       "  </thead>\n",
       "  <tbody>\n",
       "    <tr>\n",
       "      <th>0</th>\n",
       "      <td>Q645627</td>\n",
       "      <td>Hal Mohr</td>\n",
       "      <td>Hal Mohr was born in San Francisco on August 2...</td>\n",
       "      <td>What does Hal Mohr do for a living?</td>\n",
       "      <td>actor</td>\n",
       "      <td>occupation</td>\n",
       "      <td>actor</td>\n",
       "    </tr>\n",
       "    <tr>\n",
       "      <th>1</th>\n",
       "      <td>Q5251048</td>\n",
       "      <td>Def Jef</td>\n",
       "      <td>Jeff Fortson, born on September 27, 1966, in H...</td>\n",
       "      <td>What does Def Jef do for a living?</td>\n",
       "      <td>DJ producer</td>\n",
       "      <td>occupation</td>\n",
       "      <td>DJ producer</td>\n",
       "    </tr>\n",
       "    <tr>\n",
       "      <th>3</th>\n",
       "      <td>Q6777518</td>\n",
       "      <td>Marty Papazian</td>\n",
       "      <td>Marty Papazian was born on April 18, 1976, in ...</td>\n",
       "      <td>What does Marty Papazian do for a living?</td>\n",
       "      <td>actor</td>\n",
       "      <td>occupation</td>\n",
       "      <td>actor</td>\n",
       "    </tr>\n",
       "    <tr>\n",
       "      <th>7</th>\n",
       "      <td>Q298761</td>\n",
       "      <td>Clive Barker</td>\n",
       "      <td>Clive Barker, born on October 5, 1952, in Live...</td>\n",
       "      <td>What does Clive Barker do for a living?</td>\n",
       "      <td>film producer</td>\n",
       "      <td>occupation</td>\n",
       "      <td>film producer</td>\n",
       "    </tr>\n",
       "    <tr>\n",
       "      <th>8</th>\n",
       "      <td>Q5957724</td>\n",
       "      <td>Farhad Ayish</td>\n",
       "      <td>Farhad, born on September 18, 1952, in Shemira...</td>\n",
       "      <td>What does Farhad Ayish do for a living?</td>\n",
       "      <td>film director</td>\n",
       "      <td>occupation</td>\n",
       "      <td>film director</td>\n",
       "    </tr>\n",
       "    <tr>\n",
       "      <th>...</th>\n",
       "      <td>...</td>\n",
       "      <td>...</td>\n",
       "      <td>...</td>\n",
       "      <td>...</td>\n",
       "      <td>...</td>\n",
       "      <td>...</td>\n",
       "      <td>...</td>\n",
       "    </tr>\n",
       "    <tr>\n",
       "      <th>9962</th>\n",
       "      <td>Q445146</td>\n",
       "      <td>Desmond Harrington</td>\n",
       "      <td>Desmond Harrington, born on October 19, 1976, ...</td>\n",
       "      <td>What does Desmond Harrington do for a living?</td>\n",
       "      <td>actor</td>\n",
       "      <td>occupation</td>\n",
       "      <td>film actor</td>\n",
       "    </tr>\n",
       "    <tr>\n",
       "      <th>9965</th>\n",
       "      <td>Q434901</td>\n",
       "      <td>Lionel Belmore</td>\n",
       "      <td>Lionel Belmore was a prominent figure in the e...</td>\n",
       "      <td>What does Lionel Belmore do for a living?</td>\n",
       "      <td>film actor</td>\n",
       "      <td>occupation</td>\n",
       "      <td>film actor</td>\n",
       "    </tr>\n",
       "    <tr>\n",
       "      <th>9967</th>\n",
       "      <td>Q4909746</td>\n",
       "      <td>Bill Kirchenbauer</td>\n",
       "      <td>Bill was born on February 19, 1953, in Salzbur...</td>\n",
       "      <td>What does Bill Kirchenbauer do for a living?</td>\n",
       "      <td>television actor</td>\n",
       "      <td>occupation</td>\n",
       "      <td>actor</td>\n",
       "    </tr>\n",
       "    <tr>\n",
       "      <th>9987</th>\n",
       "      <td>Q240162</td>\n",
       "      <td>Stephanie Seymour</td>\n",
       "      <td>Stephanie Michelle Seymour, born on July 23, 1...</td>\n",
       "      <td>What does Stephanie Seymour do for a living?</td>\n",
       "      <td>actress and model</td>\n",
       "      <td>occupation</td>\n",
       "      <td>television actor</td>\n",
       "    </tr>\n",
       "    <tr>\n",
       "      <th>9990</th>\n",
       "      <td>Q542621</td>\n",
       "      <td>June Wilkinson</td>\n",
       "      <td>June Wilkinson, born on March 27, 1940, in Eas...</td>\n",
       "      <td>What does June Wilkinson do for a living?</td>\n",
       "      <td>actress</td>\n",
       "      <td>occupation</td>\n",
       "      <td>actor</td>\n",
       "    </tr>\n",
       "  </tbody>\n",
       "</table>\n",
       "<p>3086 rows × 7 columns</p>\n",
       "</div>"
      ],
      "text/plain": [
       "            id         entity_name  \\\n",
       "0      Q645627            Hal Mohr   \n",
       "1     Q5251048             Def Jef   \n",
       "3     Q6777518      Marty Papazian   \n",
       "7      Q298761        Clive Barker   \n",
       "8     Q5957724        Farhad Ayish   \n",
       "...        ...                 ...   \n",
       "9962   Q445146  Desmond Harrington   \n",
       "9965   Q434901      Lionel Belmore   \n",
       "9967  Q4909746   Bill Kirchenbauer   \n",
       "9987   Q240162   Stephanie Seymour   \n",
       "9990   Q542621      June Wilkinson   \n",
       "\n",
       "                                          original_text  \\\n",
       "0     Hal Mohr was born in San Francisco on August 2...   \n",
       "1     Jeff Fortson, born on September 27, 1966, in H...   \n",
       "3     Marty Papazian was born on April 18, 1976, in ...   \n",
       "7     Clive Barker, born on October 5, 1952, in Live...   \n",
       "8     Farhad, born on September 18, 1952, in Shemira...   \n",
       "...                                                 ...   \n",
       "9962  Desmond Harrington, born on October 19, 1976, ...   \n",
       "9965  Lionel Belmore was a prominent figure in the e...   \n",
       "9967  Bill was born on February 19, 1953, in Salzbur...   \n",
       "9987  Stephanie Michelle Seymour, born on July 23, 1...   \n",
       "9990  June Wilkinson, born on March 27, 1940, in Eas...   \n",
       "\n",
       "                                           question             answer  \\\n",
       "0               What does Hal Mohr do for a living?              actor   \n",
       "1                What does Def Jef do for a living?        DJ producer   \n",
       "3         What does Marty Papazian do for a living?              actor   \n",
       "7           What does Clive Barker do for a living?      film producer   \n",
       "8           What does Farhad Ayish do for a living?      film director   \n",
       "...                                             ...                ...   \n",
       "9962  What does Desmond Harrington do for a living?              actor   \n",
       "9965      What does Lionel Belmore do for a living?         film actor   \n",
       "9967   What does Bill Kirchenbauer do for a living?   television actor   \n",
       "9987   What does Stephanie Seymour do for a living?  actress and model   \n",
       "9990      What does June Wilkinson do for a living?            actress   \n",
       "\n",
       "     selected_property    property_value  \n",
       "0           occupation             actor  \n",
       "1           occupation       DJ producer  \n",
       "3           occupation             actor  \n",
       "7           occupation     film producer  \n",
       "8           occupation     film director  \n",
       "...                ...               ...  \n",
       "9962        occupation        film actor  \n",
       "9965        occupation        film actor  \n",
       "9967        occupation             actor  \n",
       "9987        occupation  television actor  \n",
       "9990        occupation             actor  \n",
       "\n",
       "[3086 rows x 7 columns]"
      ]
     },
     "execution_count": 26,
     "metadata": {},
     "output_type": "execute_result"
    }
   ],
   "source": [
    "df_explicit[df_explicit[\"selected_property\"] == \"occupation\"]"
   ]
  },
  {
   "cell_type": "code",
   "execution_count": 27,
   "metadata": {},
   "outputs": [
    {
     "data": {
      "text/html": [
       "<div>\n",
       "<style scoped>\n",
       "    .dataframe tbody tr th:only-of-type {\n",
       "        vertical-align: middle;\n",
       "    }\n",
       "\n",
       "    .dataframe tbody tr th {\n",
       "        vertical-align: top;\n",
       "    }\n",
       "\n",
       "    .dataframe thead th {\n",
       "        text-align: right;\n",
       "    }\n",
       "</style>\n",
       "<table border=\"1\" class=\"dataframe\">\n",
       "  <thead>\n",
       "    <tr style=\"text-align: right;\">\n",
       "      <th></th>\n",
       "      <th>id</th>\n",
       "      <th>entity_name</th>\n",
       "      <th>original_text</th>\n",
       "      <th>question</th>\n",
       "      <th>answer</th>\n",
       "      <th>selected_property</th>\n",
       "      <th>property_value</th>\n",
       "    </tr>\n",
       "  </thead>\n",
       "  <tbody>\n",
       "    <tr>\n",
       "      <th>0</th>\n",
       "      <td>Q645627</td>\n",
       "      <td>Hal Mohr</td>\n",
       "      <td>Hal Mohr, born in San Francisco in 1894, left ...</td>\n",
       "      <td>What does Hal Mohr do for a living?</td>\n",
       "      <td>NaN</td>\n",
       "      <td>occupation</td>\n",
       "      <td>actor</td>\n",
       "    </tr>\n",
       "    <tr>\n",
       "      <th>1</th>\n",
       "      <td>Q5251048</td>\n",
       "      <td>Def Jef</td>\n",
       "      <td>Born in Harlem on September 27, 1966, Jeffrey ...</td>\n",
       "      <td>What does Def Jef do for a living?</td>\n",
       "      <td>DJ producer</td>\n",
       "      <td>occupation</td>\n",
       "      <td>DJ producer</td>\n",
       "    </tr>\n",
       "    <tr>\n",
       "      <th>3</th>\n",
       "      <td>Q6777518</td>\n",
       "      <td>Marty Papazian</td>\n",
       "      <td>Marty Papazian, born in Los Angeles on April 1...</td>\n",
       "      <td>What does Marty Papazian do for a living?</td>\n",
       "      <td>actor</td>\n",
       "      <td>occupation</td>\n",
       "      <td>actor</td>\n",
       "    </tr>\n",
       "    <tr>\n",
       "      <th>7</th>\n",
       "      <td>Q298761</td>\n",
       "      <td>Clive Barker</td>\n",
       "      <td>Clive Barker, born in Liverpool on October 5, ...</td>\n",
       "      <td>What does Clive Barker do for a living?</td>\n",
       "      <td>author and film producer</td>\n",
       "      <td>occupation</td>\n",
       "      <td>film producer</td>\n",
       "    </tr>\n",
       "    <tr>\n",
       "      <th>8</th>\n",
       "      <td>Q5957724</td>\n",
       "      <td>Farhad Ayish</td>\n",
       "      <td>Born on September 18, 1952, in Shemiran, Farha...</td>\n",
       "      <td>What does Farhad Ayish do for a living?</td>\n",
       "      <td>film director</td>\n",
       "      <td>occupation</td>\n",
       "      <td>film director</td>\n",
       "    </tr>\n",
       "    <tr>\n",
       "      <th>...</th>\n",
       "      <td>...</td>\n",
       "      <td>...</td>\n",
       "      <td>...</td>\n",
       "      <td>...</td>\n",
       "      <td>...</td>\n",
       "      <td>...</td>\n",
       "      <td>...</td>\n",
       "    </tr>\n",
       "    <tr>\n",
       "      <th>9962</th>\n",
       "      <td>Q445146</td>\n",
       "      <td>Desmond Harrington</td>\n",
       "      <td>Desmond Harrington, born in Savannah in 1976, ...</td>\n",
       "      <td>What does Desmond Harrington do for a living?</td>\n",
       "      <td>film actor</td>\n",
       "      <td>occupation</td>\n",
       "      <td>film actor</td>\n",
       "    </tr>\n",
       "    <tr>\n",
       "      <th>9965</th>\n",
       "      <td>Q434901</td>\n",
       "      <td>Lionel Belmore</td>\n",
       "      <td>Lionel Belmore, born in Wimbledon in 1867, cap...</td>\n",
       "      <td>What does Lionel Belmore do for a living?</td>\n",
       "      <td>film actor</td>\n",
       "      <td>occupation</td>\n",
       "      <td>film actor</td>\n",
       "    </tr>\n",
       "    <tr>\n",
       "      <th>9967</th>\n",
       "      <td>Q4909746</td>\n",
       "      <td>Bill Kirchenbauer</td>\n",
       "      <td>Born in Salzburg on February 19, 1953, Bill ha...</td>\n",
       "      <td>What does Bill Kirchenbauer do for a living?</td>\n",
       "      <td>actor</td>\n",
       "      <td>occupation</td>\n",
       "      <td>actor</td>\n",
       "    </tr>\n",
       "    <tr>\n",
       "      <th>9987</th>\n",
       "      <td>Q240162</td>\n",
       "      <td>Stephanie Seymour</td>\n",
       "      <td>Born on July 23, 1968, in San Diego, Stephanie...</td>\n",
       "      <td>What does Stephanie Seymour do for a living?</td>\n",
       "      <td>model and actress</td>\n",
       "      <td>occupation</td>\n",
       "      <td>television actor</td>\n",
       "    </tr>\n",
       "    <tr>\n",
       "      <th>9990</th>\n",
       "      <td>Q542621</td>\n",
       "      <td>June Wilkinson</td>\n",
       "      <td>June Wilkinson, born in Eastbourne on March 27...</td>\n",
       "      <td>What does June Wilkinson do for a living?</td>\n",
       "      <td>actress</td>\n",
       "      <td>occupation</td>\n",
       "      <td>actor</td>\n",
       "    </tr>\n",
       "  </tbody>\n",
       "</table>\n",
       "<p>3086 rows × 7 columns</p>\n",
       "</div>"
      ],
      "text/plain": [
       "            id         entity_name  \\\n",
       "0      Q645627            Hal Mohr   \n",
       "1     Q5251048             Def Jef   \n",
       "3     Q6777518      Marty Papazian   \n",
       "7      Q298761        Clive Barker   \n",
       "8     Q5957724        Farhad Ayish   \n",
       "...        ...                 ...   \n",
       "9962   Q445146  Desmond Harrington   \n",
       "9965   Q434901      Lionel Belmore   \n",
       "9967  Q4909746   Bill Kirchenbauer   \n",
       "9987   Q240162   Stephanie Seymour   \n",
       "9990   Q542621      June Wilkinson   \n",
       "\n",
       "                                          original_text  \\\n",
       "0     Hal Mohr, born in San Francisco in 1894, left ...   \n",
       "1     Born in Harlem on September 27, 1966, Jeffrey ...   \n",
       "3     Marty Papazian, born in Los Angeles on April 1...   \n",
       "7     Clive Barker, born in Liverpool on October 5, ...   \n",
       "8     Born on September 18, 1952, in Shemiran, Farha...   \n",
       "...                                                 ...   \n",
       "9962  Desmond Harrington, born in Savannah in 1976, ...   \n",
       "9965  Lionel Belmore, born in Wimbledon in 1867, cap...   \n",
       "9967  Born in Salzburg on February 19, 1953, Bill ha...   \n",
       "9987  Born on July 23, 1968, in San Diego, Stephanie...   \n",
       "9990  June Wilkinson, born in Eastbourne on March 27...   \n",
       "\n",
       "                                           question                    answer  \\\n",
       "0               What does Hal Mohr do for a living?                       NaN   \n",
       "1                What does Def Jef do for a living?               DJ producer   \n",
       "3         What does Marty Papazian do for a living?                     actor   \n",
       "7           What does Clive Barker do for a living?  author and film producer   \n",
       "8           What does Farhad Ayish do for a living?             film director   \n",
       "...                                             ...                       ...   \n",
       "9962  What does Desmond Harrington do for a living?                film actor   \n",
       "9965      What does Lionel Belmore do for a living?                film actor   \n",
       "9967   What does Bill Kirchenbauer do for a living?                     actor   \n",
       "9987   What does Stephanie Seymour do for a living?         model and actress   \n",
       "9990      What does June Wilkinson do for a living?                   actress   \n",
       "\n",
       "     selected_property    property_value  \n",
       "0           occupation             actor  \n",
       "1           occupation       DJ producer  \n",
       "3           occupation             actor  \n",
       "7           occupation     film producer  \n",
       "8           occupation     film director  \n",
       "...                ...               ...  \n",
       "9962        occupation        film actor  \n",
       "9965        occupation        film actor  \n",
       "9967        occupation             actor  \n",
       "9987        occupation  television actor  \n",
       "9990        occupation             actor  \n",
       "\n",
       "[3086 rows x 7 columns]"
      ]
     },
     "execution_count": 27,
     "metadata": {},
     "output_type": "execute_result"
    }
   ],
   "source": [
    "import pandas as pd\n",
    "df_implicit = pd.read_csv(implicit_path)\n",
    "df_implicit.head()\n",
    "df_implicit[df_implicit[\"selected_property\"] == \"occupation\"]"
   ]
  },
  {
   "cell_type": "code",
   "execution_count": 28,
   "metadata": {},
   "outputs": [
    {
     "data": {
      "text/html": [
       "<div>\n",
       "<style scoped>\n",
       "    .dataframe tbody tr th:only-of-type {\n",
       "        vertical-align: middle;\n",
       "    }\n",
       "\n",
       "    .dataframe tbody tr th {\n",
       "        vertical-align: top;\n",
       "    }\n",
       "\n",
       "    .dataframe thead th {\n",
       "        text-align: right;\n",
       "    }\n",
       "</style>\n",
       "<table border=\"1\" class=\"dataframe\">\n",
       "  <thead>\n",
       "    <tr style=\"text-align: right;\">\n",
       "      <th></th>\n",
       "      <th>original_text</th>\n",
       "      <th>property_value</th>\n",
       "    </tr>\n",
       "  </thead>\n",
       "  <tbody>\n",
       "    <tr>\n",
       "      <th>0</th>\n",
       "      <td>Hal Mohr was born in San Francisco on August 2...</td>\n",
       "      <td>actor</td>\n",
       "    </tr>\n",
       "    <tr>\n",
       "      <th>3</th>\n",
       "      <td>Marty Papazian was born on April 18, 1976, in ...</td>\n",
       "      <td>actor</td>\n",
       "    </tr>\n",
       "    <tr>\n",
       "      <th>8</th>\n",
       "      <td>Farhad, born on September 18, 1952, in Shemira...</td>\n",
       "      <td>film director</td>\n",
       "    </tr>\n",
       "    <tr>\n",
       "      <th>10</th>\n",
       "      <td>Ken Jones was born on February 20, 1930, in Li...</td>\n",
       "      <td>film actor</td>\n",
       "    </tr>\n",
       "    <tr>\n",
       "      <th>11</th>\n",
       "      <td>Sophie Hayden was born on February 23, 1954, i...</td>\n",
       "      <td>stage actor</td>\n",
       "    </tr>\n",
       "    <tr>\n",
       "      <th>...</th>\n",
       "      <td>...</td>\n",
       "      <td>...</td>\n",
       "    </tr>\n",
       "    <tr>\n",
       "      <th>9962</th>\n",
       "      <td>Desmond Harrington, born on October 19, 1976, ...</td>\n",
       "      <td>film actor</td>\n",
       "    </tr>\n",
       "    <tr>\n",
       "      <th>9965</th>\n",
       "      <td>Lionel Belmore was a prominent figure in the e...</td>\n",
       "      <td>film actor</td>\n",
       "    </tr>\n",
       "    <tr>\n",
       "      <th>9967</th>\n",
       "      <td>Bill was born on February 19, 1953, in Salzbur...</td>\n",
       "      <td>actor</td>\n",
       "    </tr>\n",
       "    <tr>\n",
       "      <th>9987</th>\n",
       "      <td>Stephanie Michelle Seymour, born on July 23, 1...</td>\n",
       "      <td>television actor</td>\n",
       "    </tr>\n",
       "    <tr>\n",
       "      <th>9990</th>\n",
       "      <td>June Wilkinson, born on March 27, 1940, in Eas...</td>\n",
       "      <td>actor</td>\n",
       "    </tr>\n",
       "  </tbody>\n",
       "</table>\n",
       "<p>2151 rows × 2 columns</p>\n",
       "</div>"
      ],
      "text/plain": [
       "                                          original_text    property_value\n",
       "0     Hal Mohr was born in San Francisco on August 2...             actor\n",
       "3     Marty Papazian was born on April 18, 1976, in ...             actor\n",
       "8     Farhad, born on September 18, 1952, in Shemira...     film director\n",
       "10    Ken Jones was born on February 20, 1930, in Li...        film actor\n",
       "11    Sophie Hayden was born on February 23, 1954, i...       stage actor\n",
       "...                                                 ...               ...\n",
       "9962  Desmond Harrington, born on October 19, 1976, ...        film actor\n",
       "9965  Lionel Belmore was a prominent figure in the e...        film actor\n",
       "9967  Bill was born on February 19, 1953, in Salzbur...             actor\n",
       "9987  Stephanie Michelle Seymour, born on July 23, 1...  television actor\n",
       "9990  June Wilkinson, born on March 27, 1940, in Eas...             actor\n",
       "\n",
       "[2151 rows x 2 columns]"
      ]
     },
     "execution_count": 28,
     "metadata": {},
     "output_type": "execute_result"
    }
   ],
   "source": [
    "# Define the occupations to keep\n",
    "selected_occupations = {\"actor\", \"film actor\", \"television actor\", \"stage actor\", \"film director\"}\n",
    "\n",
    "# Correctly filter rows based on selected occupations\n",
    "filtered_df_exp = df_explicit[\n",
    "    (df_explicit[\"selected_property\"] == \"occupation\") & \n",
    "    (df_explicit[\"property_value\"].isin(selected_occupations))\n",
    "]\n",
    "# Select only the required columns\n",
    "filtered_df_exp = filtered_df_exp[[\"original_text\", \"property_value\"]]\n",
    "\n",
    "filtered_df_exp"
   ]
  },
  {
   "cell_type": "markdown",
   "metadata": {},
   "source": [
    "# Model"
   ]
  },
  {
   "cell_type": "code",
   "execution_count": null,
   "metadata": {},
   "outputs": [],
   "source": [
    "from huggingface_hub import HfFolder\n",
    "HfFolder.save_token(token)\n"
   ]
  },
  {
   "cell_type": "code",
   "execution_count": 5,
   "metadata": {},
   "outputs": [
    {
     "data": {
      "text/plain": [
       "<module 'model_trainer' from '/home/sagemaker-user/implicit/model_trainer.py'>"
      ]
     },
     "execution_count": 5,
     "metadata": {},
     "output_type": "execute_result"
    }
   ],
   "source": [
    "import importlib\n",
    "import model_trainer  # or whatever your module is named\n",
    "importlib.reload(model_trainer)\n"
   ]
  },
  {
   "cell_type": "code",
   "execution_count": 6,
   "metadata": {},
   "outputs": [
    {
     "name": "stderr",
     "output_type": "stream",
     "text": [
      "Some weights of LlamaForSequenceClassification were not initialized from the model checkpoint at meta-llama/Llama-3.2-1B and are newly initialized: ['score.weight']\n",
      "You should probably TRAIN this model on a down-stream task to be able to use it for predictions and inference.\n"
     ]
    },
    {
     "name": "stdout",
     "output_type": "stream",
     "text": [
      "trainable params: 180,365,312 || all params: 1,416,189,952 || trainable%: 12.7360\n",
      "('self', 'input_ids', 'attention_mask', 'inputs_embeds', 'labels', 'output_attentions', 'output_hidden_states', 'return_dict', 'task_ids', 'kwargs', 'peft_config', 'k', 'v', 'batch_size', 'prefix_attention_mask', 'prompts')\n"
     ]
    },
    {
     "data": {
      "application/vnd.jupyter.widget-view+json": {
       "model_id": "82f0c111f18e4c089b00340e0c5879ed",
       "version_major": 2,
       "version_minor": 0
      },
      "text/plain": [
       "Map:   0%|          | 0/860 [00:00<?, ? examples/s]"
      ]
     },
     "metadata": {},
     "output_type": "display_data"
    },
    {
     "data": {
      "application/vnd.jupyter.widget-view+json": {
       "model_id": "674129f014794b748e992dc3129f962d",
       "version_major": 2,
       "version_minor": 0
      },
      "text/plain": [
       "Map:   0%|          | 0/387 [00:00<?, ? examples/s]"
      ]
     },
     "metadata": {},
     "output_type": "display_data"
    },
    {
     "data": {
      "application/vnd.jupyter.widget-view+json": {
       "model_id": "895ad4f65e394808ac9b90c8181a5b66",
       "version_major": 2,
       "version_minor": 0
      },
      "text/plain": [
       "Map:   0%|          | 0/904 [00:00<?, ? examples/s]"
      ]
     },
     "metadata": {},
     "output_type": "display_data"
    },
    {
     "name": "stdout",
     "output_type": "stream",
     "text": [
      "Train and test on explicit\n",
      "After fine tuning\n"
     ]
    },
    {
     "name": "stderr",
     "output_type": "stream",
     "text": [
      "/opt/conda/lib/python3.12/site-packages/accelerate/accelerator.py:494: FutureWarning: `torch.cuda.amp.GradScaler(args...)` is deprecated. Please use `torch.amp.GradScaler('cuda', args...)` instead.\n",
      "  self.scaler = torch.cuda.amp.GradScaler(**kwargs)\n"
     ]
    },
    {
     "data": {
      "text/html": [
       "\n",
       "    <div>\n",
       "      \n",
       "      <progress value='324' max='324' style='width:300px; height:20px; vertical-align: middle;'></progress>\n",
       "      [324/324 02:56, Epoch 3/3]\n",
       "    </div>\n",
       "    <table border=\"1\" class=\"dataframe\">\n",
       "  <thead>\n",
       " <tr style=\"text-align: left;\">\n",
       "      <th>Epoch</th>\n",
       "      <th>Training Loss</th>\n",
       "      <th>Validation Loss</th>\n",
       "      <th>Recall</th>\n",
       "    </tr>\n",
       "  </thead>\n",
       "  <tbody>\n",
       "    <tr>\n",
       "      <td>1</td>\n",
       "      <td>0.296000</td>\n",
       "      <td>0.850243</td>\n",
       "      <td>0.884472</td>\n",
       "    </tr>\n",
       "    <tr>\n",
       "      <td>2</td>\n",
       "      <td>0.318700</td>\n",
       "      <td>0.336495</td>\n",
       "      <td>0.929952</td>\n",
       "    </tr>\n",
       "    <tr>\n",
       "      <td>3</td>\n",
       "      <td>0.287900</td>\n",
       "      <td>0.411251</td>\n",
       "      <td>0.942500</td>\n",
       "    </tr>\n",
       "  </tbody>\n",
       "</table><p>"
      ],
      "text/plain": [
       "<IPython.core.display.HTML object>"
      ]
     },
     "metadata": {},
     "output_type": "display_data"
    },
    {
     "data": {
      "text/html": [],
      "text/plain": [
       "<IPython.core.display.HTML object>"
      ]
     },
     "metadata": {},
     "output_type": "display_data"
    },
    {
     "name": "stdout",
     "output_type": "stream",
     "text": [
      "\n",
      "Classification Report:\n",
      "              precision    recall  f1-score   support\n",
      "\n",
      "           0       0.97      0.79      0.87       435\n",
      "           1       0.84      0.99      0.91       184\n",
      "           2       0.98      0.98      0.98        43\n",
      "           3       0.86      1.00      0.92        54\n",
      "           4       0.79      0.96      0.87       188\n",
      "\n",
      "    accuracy                           0.89       904\n",
      "   macro avg       0.89      0.94      0.91       904\n",
      "weighted avg       0.90      0.89      0.89       904\n",
      "\n",
      "\n",
      "Metrics:\n",
      "Balanced Accuracy: 0.9424\n",
      "Accuracy: 0.8861\n",
      "Precision: 0.8869\n",
      "Recall: 0.9424\n",
      "F1 Score: 0.9089\n",
      "{0: 'actor', 1: 'film actor', 2: 'film director', 3: 'stage actor', 4: 'television actor'}\n"
     ]
    },
    {
     "data": {
      "image/png": "[encoded data removed]",
      "text/plain": [
       "<Figure size 800x600 with 2 Axes>"
      ]
     },
     "metadata": {},
     "output_type": "display_data"
    },
    {
     "name": "stderr",
     "output_type": "stream",
     "text": [
      "Some weights of LlamaForSequenceClassification were not initialized from the model checkpoint at meta-llama/Llama-3.2-1B and are newly initialized: ['score.weight']\n",
      "You should probably TRAIN this model on a down-stream task to be able to use it for predictions and inference.\n"
     ]
    },
    {
     "name": "stdout",
     "output_type": "stream",
     "text": [
      "trainable params: 180,365,312 || all params: 1,416,189,952 || trainable%: 12.7360\n",
      "('self', 'input_ids', 'attention_mask', 'inputs_embeds', 'labels', 'output_attentions', 'output_hidden_states', 'return_dict', 'task_ids', 'kwargs', 'peft_config', 'k', 'v', 'batch_size', 'prefix_attention_mask', 'prompts')\n"
     ]
    },
    {
     "data": {
      "application/vnd.jupyter.widget-view+json": {
       "model_id": "421a5cde8b534187b43cb97cb4aa286c",
       "version_major": 2,
       "version_minor": 0
      },
      "text/plain": [
       "Map:   0%|          | 0/860 [00:00<?, ? examples/s]"
      ]
     },
     "metadata": {},
     "output_type": "display_data"
    },
    {
     "data": {
      "application/vnd.jupyter.widget-view+json": {
       "model_id": "988bdd14c1ca4d9ba8d3a242bf7aba9d",
       "version_major": 2,
       "version_minor": 0
      },
      "text/plain": [
       "Map:   0%|          | 0/387 [00:00<?, ? examples/s]"
      ]
     },
     "metadata": {},
     "output_type": "display_data"
    },
    {
     "data": {
      "application/vnd.jupyter.widget-view+json": {
       "model_id": "3460f47d3fb642b683bf77e1210718a1",
       "version_major": 2,
       "version_minor": 0
      },
      "text/plain": [
       "Map:   0%|          | 0/904 [00:00<?, ? examples/s]"
      ]
     },
     "metadata": {},
     "output_type": "display_data"
    },
    {
     "name": "stdout",
     "output_type": "stream",
     "text": [
      "Train and test on implicit\n",
      "After fine tuning\n"
     ]
    },
    {
     "name": "stderr",
     "output_type": "stream",
     "text": [
      "/opt/conda/lib/python3.12/site-packages/accelerate/accelerator.py:494: FutureWarning: `torch.cuda.amp.GradScaler(args...)` is deprecated. Please use `torch.amp.GradScaler('cuda', args...)` instead.\n",
      "  self.scaler = torch.cuda.amp.GradScaler(**kwargs)\n"
     ]
    },
    {
     "data": {
      "text/html": [
       "\n",
       "    <div>\n",
       "      \n",
       "      <progress value='324' max='324' style='width:300px; height:20px; vertical-align: middle;'></progress>\n",
       "      [324/324 03:15, Epoch 3/3]\n",
       "    </div>\n",
       "    <table border=\"1\" class=\"dataframe\">\n",
       "  <thead>\n",
       " <tr style=\"text-align: left;\">\n",
       "      <th>Epoch</th>\n",
       "      <th>Training Loss</th>\n",
       "      <th>Validation Loss</th>\n",
       "      <th>Recall</th>\n",
       "    </tr>\n",
       "  </thead>\n",
       "  <tbody>\n",
       "    <tr>\n",
       "      <td>1</td>\n",
       "      <td>1.081100</td>\n",
       "      <td>0.829536</td>\n",
       "      <td>0.548486</td>\n",
       "    </tr>\n",
       "    <tr>\n",
       "      <td>2</td>\n",
       "      <td>0.080200</td>\n",
       "      <td>0.293697</td>\n",
       "      <td>0.923138</td>\n",
       "    </tr>\n",
       "    <tr>\n",
       "      <td>3</td>\n",
       "      <td>0.068300</td>\n",
       "      <td>0.291638</td>\n",
       "      <td>0.932926</td>\n",
       "    </tr>\n",
       "  </tbody>\n",
       "</table><p>"
      ],
      "text/plain": [
       "<IPython.core.display.HTML object>"
      ]
     },
     "metadata": {},
     "output_type": "display_data"
    },
    {
     "data": {
      "text/html": [],
      "text/plain": [
       "<IPython.core.display.HTML object>"
      ]
     },
     "metadata": {},
     "output_type": "display_data"
    },
    {
     "name": "stdout",
     "output_type": "stream",
     "text": [
      "\n",
      "Classification Report:\n",
      "              precision    recall  f1-score   support\n",
      "\n",
      "           0       0.92      0.93      0.93       435\n",
      "           1       0.91      0.89      0.90       184\n",
      "           2       0.97      0.91      0.94        43\n",
      "           3       0.82      0.83      0.83        54\n",
      "           4       0.95      0.96      0.95       188\n",
      "\n",
      "    accuracy                           0.92       904\n",
      "   macro avg       0.92      0.90      0.91       904\n",
      "weighted avg       0.92      0.92      0.92       904\n",
      "\n",
      "\n",
      "Metrics:\n",
      "Balanced Accuracy: 0.9045\n",
      "Accuracy: 0.9226\n",
      "Precision: 0.9159\n",
      "Recall: 0.9045\n",
      "F1 Score: 0.9099\n",
      "{0: 'actor', 1: 'film actor', 2: 'film director', 3: 'stage actor', 4: 'television actor'}\n"
     ]
    },
    {
     "data": {
      "image/png": "[encoded data removed]",
      "text/plain": [
       "<Figure size 800x600 with 2 Axes>"
      ]
     },
     "metadata": {},
     "output_type": "display_data"
    },
    {
     "name": "stderr",
     "output_type": "stream",
     "text": [
      "/opt/conda/lib/python3.12/site-packages/accelerate/utils/modeling.py:1462: UserWarning: Current model requires 128 bytes of buffer for offloaded layers, which seems does not fit any GPU's remaining memory. If you are experiencing a OOM later, please consider using offload_buffers=True.\n",
      "  warnings.warn(\n",
      "Some weights of LlamaForSequenceClassification were not initialized from the model checkpoint at meta-llama/Llama-3.2-1B and are newly initialized: ['score.weight']\n",
      "You should probably TRAIN this model on a down-stream task to be able to use it for predictions and inference.\n"
     ]
    },
    {
     "name": "stdout",
     "output_type": "stream",
     "text": [
      "trainable params: 180,365,312 || all params: 1,416,189,952 || trainable%: 12.7360\n",
      "('self', 'input_ids', 'attention_mask', 'inputs_embeds', 'labels', 'output_attentions', 'output_hidden_states', 'return_dict', 'task_ids', 'kwargs', 'peft_config', 'k', 'v', 'batch_size', 'prefix_attention_mask', 'prompts')\n",
      "Testing trained on explicit and implicit on explicit\n",
      "After fine tuning\n"
     ]
    },
    {
     "name": "stderr",
     "output_type": "stream",
     "text": [
      "/opt/conda/lib/python3.12/site-packages/accelerate/accelerator.py:494: FutureWarning: `torch.cuda.amp.GradScaler(args...)` is deprecated. Please use `torch.amp.GradScaler('cuda', args...)` instead.\n",
      "  self.scaler = torch.cuda.amp.GradScaler(**kwargs)\n"
     ]
    },
    {
     "data": {
      "text/html": [
       "\n",
       "    <div>\n",
       "      \n",
       "      <progress value='645' max='645' style='width:300px; height:20px; vertical-align: middle;'></progress>\n",
       "      [645/645 06:54, Epoch 3/3]\n",
       "    </div>\n",
       "    <table border=\"1\" class=\"dataframe\">\n",
       "  <thead>\n",
       " <tr style=\"text-align: left;\">\n",
       "      <th>Epoch</th>\n",
       "      <th>Training Loss</th>\n",
       "      <th>Validation Loss</th>\n",
       "      <th>Recall</th>\n",
       "    </tr>\n",
       "  </thead>\n",
       "  <tbody>\n",
       "    <tr>\n",
       "      <td>1</td>\n",
       "      <td>0.350700</td>\n",
       "      <td>0.340203</td>\n",
       "      <td>0.863018</td>\n",
       "    </tr>\n",
       "    <tr>\n",
       "      <td>2</td>\n",
       "      <td>0.197300</td>\n",
       "      <td>0.188637</td>\n",
       "      <td>0.953034</td>\n",
       "    </tr>\n",
       "    <tr>\n",
       "      <td>3</td>\n",
       "      <td>0.102600</td>\n",
       "      <td>0.149292</td>\n",
       "      <td>0.966192</td>\n",
       "    </tr>\n",
       "  </tbody>\n",
       "</table><p>"
      ],
      "text/plain": [
       "<IPython.core.display.HTML object>"
      ]
     },
     "metadata": {},
     "output_type": "display_data"
    },
    {
     "data": {
      "text/html": [],
      "text/plain": [
       "<IPython.core.display.HTML object>"
      ]
     },
     "metadata": {},
     "output_type": "display_data"
    },
    {
     "name": "stdout",
     "output_type": "stream",
     "text": [
      "\n",
      "Classification Report:\n",
      "              precision    recall  f1-score   support\n",
      "\n",
      "           0       0.95      0.83      0.88       435\n",
      "           1       0.86      0.97      0.91       184\n",
      "           2       0.98      0.98      0.98        43\n",
      "           3       0.86      1.00      0.92        54\n",
      "           4       0.83      0.93      0.87       188\n",
      "\n",
      "    accuracy                           0.89       904\n",
      "   macro avg       0.89      0.94      0.91       904\n",
      "weighted avg       0.90      0.89      0.89       904\n",
      "\n",
      "\n",
      "Metrics:\n",
      "Balanced Accuracy: 0.9405\n",
      "Accuracy: 0.8949\n",
      "Precision: 0.8941\n",
      "Recall: 0.9405\n",
      "F1 Score: 0.9142\n",
      "{0: 'actor', 1: 'film actor', 2: 'film director', 3: 'stage actor', 4: 'television actor'}\n"
     ]
    },
    {
     "data": {
      "image/png": "[encoded data removed]",
      "text/plain": [
       "<Figure size 800x600 with 2 Axes>"
      ]
     },
     "metadata": {},
     "output_type": "display_data"
    },
    {
     "name": "stdout",
     "output_type": "stream",
     "text": [
      "Testing trained on explicit and implicit on implicit\n"
     ]
    },
    {
     "data": {
      "text/html": [],
      "text/plain": [
       "<IPython.core.display.HTML object>"
      ]
     },
     "metadata": {},
     "output_type": "display_data"
    },
    {
     "name": "stdout",
     "output_type": "stream",
     "text": [
      "\n",
      "Classification Report:\n",
      "              precision    recall  f1-score   support\n",
      "\n",
      "           0       0.93      0.91      0.92       435\n",
      "           1       0.86      0.90      0.88       184\n",
      "           2       0.95      0.84      0.89        43\n",
      "           3       0.83      0.93      0.88        54\n",
      "           4       0.95      0.97      0.96       188\n",
      "\n",
      "    accuracy                           0.92       904\n",
      "   macro avg       0.91      0.91      0.91       904\n",
      "weighted avg       0.92      0.92      0.92       904\n",
      "\n",
      "\n",
      "Metrics:\n",
      "Balanced Accuracy: 0.9083\n",
      "Accuracy: 0.9170\n",
      "Precision: 0.9063\n",
      "Recall: 0.9083\n",
      "F1 Score: 0.9060\n",
      "{0: 'actor', 1: 'film actor', 2: 'film director', 3: 'stage actor', 4: 'television actor'}\n"
     ]
    },
    {
     "data": {
      "image/png": "[encoded data removed]",
      "text/plain": [
       "<Figure size 800x600 with 2 Axes>"
      ]
     },
     "metadata": {},
     "output_type": "display_data"
    },
    {
     "name": "stderr",
     "output_type": "stream",
     "text": [
      "/opt/conda/lib/python3.12/site-packages/accelerate/utils/modeling.py:1462: UserWarning: Current model requires 128 bytes of buffer for offloaded layers, which seems does not fit any GPU's remaining memory. If you are experiencing a OOM later, please consider using offload_buffers=True.\n",
      "  warnings.warn(\n",
      "Some weights of LlamaForSequenceClassification were not initialized from the model checkpoint at meta-llama/Llama-3.2-1B and are newly initialized: ['score.weight']\n",
      "You should probably TRAIN this model on a down-stream task to be able to use it for predictions and inference.\n"
     ]
    },
    {
     "name": "stdout",
     "output_type": "stream",
     "text": [
      "trainable params: 180,365,312 || all params: 1,416,189,952 || trainable%: 12.7360\n",
      "('self', 'input_ids', 'attention_mask', 'inputs_embeds', 'labels', 'output_attentions', 'output_hidden_states', 'return_dict', 'task_ids', 'kwargs', 'peft_config', 'k', 'v', 'batch_size', 'prefix_attention_mask', 'prompts')\n",
      "Train on explicit and test on implicit\n"
     ]
    },
    {
     "name": "stderr",
     "output_type": "stream",
     "text": [
      "/opt/conda/lib/python3.12/site-packages/accelerate/accelerator.py:494: FutureWarning: `torch.cuda.amp.GradScaler(args...)` is deprecated. Please use `torch.amp.GradScaler('cuda', args...)` instead.\n",
      "  self.scaler = torch.cuda.amp.GradScaler(**kwargs)\n"
     ]
    },
    {
     "data": {
      "text/html": [
       "\n",
       "    <div>\n",
       "      \n",
       "      <progress value='324' max='324' style='width:300px; height:20px; vertical-align: middle;'></progress>\n",
       "      [324/324 02:56, Epoch 3/3]\n",
       "    </div>\n",
       "    <table border=\"1\" class=\"dataframe\">\n",
       "  <thead>\n",
       " <tr style=\"text-align: left;\">\n",
       "      <th>Epoch</th>\n",
       "      <th>Training Loss</th>\n",
       "      <th>Validation Loss</th>\n",
       "      <th>Recall</th>\n",
       "    </tr>\n",
       "  </thead>\n",
       "  <tbody>\n",
       "    <tr>\n",
       "      <td>1</td>\n",
       "      <td>1.312900</td>\n",
       "      <td>0.814592</td>\n",
       "      <td>0.731196</td>\n",
       "    </tr>\n",
       "    <tr>\n",
       "      <td>2</td>\n",
       "      <td>0.330500</td>\n",
       "      <td>0.425496</td>\n",
       "      <td>0.819933</td>\n",
       "    </tr>\n",
       "    <tr>\n",
       "      <td>3</td>\n",
       "      <td>0.272800</td>\n",
       "      <td>0.342525</td>\n",
       "      <td>0.925241</td>\n",
       "    </tr>\n",
       "  </tbody>\n",
       "</table><p>"
      ],
      "text/plain": [
       "<IPython.core.display.HTML object>"
      ]
     },
     "metadata": {},
     "output_type": "display_data"
    },
    {
     "data": {
      "text/html": [],
      "text/plain": [
       "<IPython.core.display.HTML object>"
      ]
     },
     "metadata": {},
     "output_type": "display_data"
    },
    {
     "name": "stdout",
     "output_type": "stream",
     "text": [
      "\n",
      "Classification Report:\n",
      "              precision    recall  f1-score   support\n",
      "\n",
      "           0       0.59      1.00      0.74       435\n",
      "           1       1.00      0.47      0.64       184\n",
      "           2       1.00      0.95      0.98        43\n",
      "           3       1.00      0.30      0.46        54\n",
      "           4       1.00      0.12      0.21       188\n",
      "\n",
      "    accuracy                           0.66       904\n",
      "   macro avg       0.92      0.57      0.60       904\n",
      "weighted avg       0.80      0.66      0.60       904\n",
      "\n",
      "\n",
      "Metrics:\n",
      "Balanced Accuracy: 0.5668\n",
      "Accuracy: 0.6637\n",
      "Precision: 0.9177\n",
      "Recall: 0.5668\n",
      "F1 Score: 0.6042\n",
      "{0: 'actor', 1: 'film actor', 2: 'film director', 3: 'stage actor', 4: 'television actor'}\n"
     ]
    },
    {
     "data": {
      "image/png": "[encoded data removed]",
      "text/plain": [
       "<Figure size 800x600 with 2 Axes>"
      ]
     },
     "metadata": {},
     "output_type": "display_data"
    },
    {
     "name": "stderr",
     "output_type": "stream",
     "text": [
      "Some weights of LlamaForSequenceClassification were not initialized from the model checkpoint at meta-llama/Llama-3.2-1B and are newly initialized: ['score.weight']\n",
      "You should probably TRAIN this model on a down-stream task to be able to use it for predictions and inference.\n"
     ]
    },
    {
     "name": "stdout",
     "output_type": "stream",
     "text": [
      "trainable params: 180,365,312 || all params: 1,416,189,952 || trainable%: 12.7360\n",
      "('self', 'input_ids', 'attention_mask', 'inputs_embeds', 'labels', 'output_attentions', 'output_hidden_states', 'return_dict', 'task_ids', 'kwargs', 'peft_config', 'k', 'v', 'batch_size', 'prefix_attention_mask', 'prompts')\n",
      "Train on implicit and test on explicit\n"
     ]
    },
    {
     "name": "stderr",
     "output_type": "stream",
     "text": [
      "/opt/conda/lib/python3.12/site-packages/accelerate/accelerator.py:494: FutureWarning: `torch.cuda.amp.GradScaler(args...)` is deprecated. Please use `torch.amp.GradScaler('cuda', args...)` instead.\n",
      "  self.scaler = torch.cuda.amp.GradScaler(**kwargs)\n"
     ]
    },
    {
     "data": {
      "text/html": [
       "\n",
       "    <div>\n",
       "      \n",
       "      <progress value='324' max='324' style='width:300px; height:20px; vertical-align: middle;'></progress>\n",
       "      [324/324 03:15, Epoch 3/3]\n",
       "    </div>\n",
       "    <table border=\"1\" class=\"dataframe\">\n",
       "  <thead>\n",
       " <tr style=\"text-align: left;\">\n",
       "      <th>Epoch</th>\n",
       "      <th>Training Loss</th>\n",
       "      <th>Validation Loss</th>\n",
       "      <th>Recall</th>\n",
       "    </tr>\n",
       "  </thead>\n",
       "  <tbody>\n",
       "    <tr>\n",
       "      <td>1</td>\n",
       "      <td>1.081100</td>\n",
       "      <td>0.829536</td>\n",
       "      <td>0.548486</td>\n",
       "    </tr>\n",
       "    <tr>\n",
       "      <td>2</td>\n",
       "      <td>0.080200</td>\n",
       "      <td>0.293697</td>\n",
       "      <td>0.923138</td>\n",
       "    </tr>\n",
       "    <tr>\n",
       "      <td>3</td>\n",
       "      <td>0.068300</td>\n",
       "      <td>0.291638</td>\n",
       "      <td>0.932926</td>\n",
       "    </tr>\n",
       "  </tbody>\n",
       "</table><p>"
      ],
      "text/plain": [
       "<IPython.core.display.HTML object>"
      ]
     },
     "metadata": {},
     "output_type": "display_data"
    },
    {
     "data": {
      "text/html": [],
      "text/plain": [
       "<IPython.core.display.HTML object>"
      ]
     },
     "metadata": {},
     "output_type": "display_data"
    },
    {
     "name": "stdout",
     "output_type": "stream",
     "text": [
      "\n",
      "Classification Report:\n",
      "              precision    recall  f1-score   support\n",
      "\n",
      "           0       0.99      0.61      0.75       435\n",
      "           1       0.77      1.00      0.87       184\n",
      "           2       0.98      0.93      0.95        43\n",
      "           3       0.85      0.98      0.91        54\n",
      "           4       0.64      1.00      0.78       188\n",
      "\n",
      "    accuracy                           0.81       904\n",
      "   macro avg       0.85      0.90      0.85       904\n",
      "weighted avg       0.86      0.81      0.80       904\n",
      "\n",
      "\n",
      "Metrics:\n",
      "Balanced Accuracy: 0.9042\n",
      "Accuracy: 0.8075\n",
      "Precision: 0.8458\n",
      "Recall: 0.9042\n",
      "F1 Score: 0.8538\n",
      "{0: 'actor', 1: 'film actor', 2: 'film director', 3: 'stage actor', 4: 'television actor'}\n"
     ]
    },
    {
     "data": {
      "image/png": "[encoded data removed]",
      "text/plain": [
       "<Figure size 800x600 with 2 Axes>"
      ]
     },
     "metadata": {},
     "output_type": "display_data"
    },
    {
     "name": "stdout",
     "output_type": "stream",
     "text": [
      "                                                Mode  Balanced Accuracy  \\\n",
      "0                         Train and test on explicit           0.942365   \n",
      "1                         Train and test on implicit           0.904479   \n",
      "2  Testing trained on explicit and implicit on ex...           0.940538   \n",
      "3  Testing trained on explicit and implicit on im...           0.908265   \n",
      "4             Train on explicit and test on implicit           0.566839   \n",
      "5             Train on implicit and test on explicit           0.904182   \n",
      "\n",
      "   Accuracy  Precision    Recall        F1  \n",
      "0  0.886062   0.886895  0.942365  0.908895  \n",
      "1  0.922566   0.915880  0.904479  0.909891  \n",
      "2  0.894912   0.894081  0.940538  0.914179  \n",
      "3  0.917035   0.906301  0.908265  0.905997  \n",
      "4  0.663717   0.917727  0.566839  0.604190  \n",
      "5  0.807522   0.845816  0.904182  0.853833  \n",
      "Results saved to results_Llama-3.2-1B.csv\n"
     ]
    }
   ],
   "source": [
    "from run_experiment import run_experiment\n",
    "\n",
    "run_experiment(model_name = \"meta-llama/Llama-3.2-1B\")"
   ]
  },
  {
   "cell_type": "code",
   "execution_count": null,
   "metadata": {},
   "outputs": [],
   "source": [
    "from run_experiment import run_experiment\n",
    "\n",
    "run_experiment(model_name = \"deepseek-ai/DeepSeek-R1-Distill-Qwen-1.5B\")"
   ]
  },
  {
   "cell_type": "code",
   "execution_count": null,
   "metadata": {},
   "outputs": [],
   "source": [
    "from run_experiment import run_experiment\n",
    "\n",
    "run_experiment(model_name = \"microsoft/phi-1_5\")"
   ]
  }
 ],
 "metadata": {
  "language_info": {
   "name": "python"
  }
 },
 "nbformat": 4,
 "nbformat_minor": 2
}
